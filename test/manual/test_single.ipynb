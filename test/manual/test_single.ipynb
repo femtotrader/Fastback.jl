{
 "cells": [
  {
   "cell_type": "code",
   "execution_count": null,
   "metadata": {},
   "outputs": [],
   "source": [
    "using Pkg; Pkg.activate(\"../../\");\n",
    "using Dates, Fastback"
   ]
  },
  {
   "cell_type": "code",
   "execution_count": null,
   "metadata": {},
   "outputs": [],
   "source": [
    "# synthetic data\n",
    "N = 100_000\n",
    "prices = 10000.0 .+ cumsum(randn(N) .+ 0.1)\n",
    "bids = prices .- 0.01\n",
    "asks = prices .+ 0.01\n",
    "dts = map(x -> DateTime(2000, 1, 1) + Minute(x) + Millisecond(123), 1:N);"
   ]
  },
  {
   "attachments": {},
   "cell_type": "markdown",
   "metadata": {},
   "source": [
    "### Long --> Short"
   ]
  },
  {
   "cell_type": "code",
   "execution_count": null,
   "metadata": {},
   "outputs": [],
   "source": [
    "# create instrument\n",
    "inst = Instrument(1, \"AAPL\")\n",
    "insts = [inst]\n",
    "\n",
    "# market data (order books)\n",
    "data = MarketData(insts)\n",
    "\n",
    "# create trading account\n",
    "acc = Account(insts, 100_000.0)\n",
    "\n",
    "show(acc)\n",
    "\n",
    "pos = acc.positions[inst.index]\n",
    "\n",
    "# backtest random trading strategy\n",
    "for i in 1:N\n",
    "    dt = dts[i]\n",
    "    book = data.order_books[inst.index]\n",
    "    update_book!(book, BidAsk(dts[i], bids[i], asks[i]))\n",
    "\n",
    "    if i == 2\n",
    "        execute_order!(acc, book, Order(inst, 1.0, dt))\n",
    "        show(acc)\n",
    "    end\n",
    "\n",
    "    if i == N\n",
    "        # close position\n",
    "        execute_order!(acc, book, Order(inst, -1.0, dt))\n",
    "        show(acc)\n",
    "    end\n",
    "\n",
    "    update_account!(acc, data, inst)\n",
    "end\n",
    "\n",
    "show(acc)\n",
    "\n",
    "println(\"Sum realized pnl: $(sum(o.execution.realized_pnl for o in acc.orders_history))\")\n",
    "println(\"Net account pnl:  $(acc.equity - acc.initial_balance)\")"
   ]
  },
  {
   "attachments": {},
   "cell_type": "markdown",
   "metadata": {},
   "source": [
    "### Short --> Long"
   ]
  },
  {
   "cell_type": "code",
   "execution_count": null,
   "metadata": {},
   "outputs": [],
   "source": [
    "# create instrument\n",
    "inst = Instrument(1, \"AAPL\")\n",
    "insts = [inst]\n",
    "\n",
    "# market data (order books)\n",
    "data = MarketData(insts)\n",
    "\n",
    "# create trading account\n",
    "acc = Account(insts, 100_000.0)\n",
    "\n",
    "pos = acc.positions[inst.index]\n",
    "\n",
    "# backtest random trading strategy\n",
    "for i in 1:N\n",
    "    dt = dts[i]\n",
    "    book = data.order_books[inst.index]\n",
    "    update_book!(book, BidAsk(dts[i], bids[i], asks[i]))\n",
    "\n",
    "    if i == 2\n",
    "        execute_order!(acc, book, Order(inst, -1.0, dt))\n",
    "        # println(pos.pnl)\n",
    "        show(acc)\n",
    "    end\n",
    "\n",
    "    if i == N\n",
    "        # close position\n",
    "        execute_order!(acc, book, Order(inst, 1.0, dt))\n",
    "        show(acc)\n",
    "    end\n",
    "\n",
    "    update_account!(acc, data, inst)\n",
    "end\n",
    "\n",
    "show(acc)\n",
    "\n",
    "println(\"Sum realized pnl: $(sum(o.execution.realized_pnl for o in acc.orders_history))\")\n",
    "println(\"Net account pnl:  $(acc.equity - acc.initial_balance)\")"
   ]
  }
 ],
 "metadata": {
  "kernelspec": {
   "display_name": "Julia 1.9.1",
   "language": "julia",
   "name": "julia-1.9"
  },
  "language_info": {
   "file_extension": ".jl",
   "mimetype": "application/julia",
   "name": "julia",
   "version": "1.9.1"
  },
  "orig_nbformat": 4
 },
 "nbformat": 4,
 "nbformat_minor": 2
}
