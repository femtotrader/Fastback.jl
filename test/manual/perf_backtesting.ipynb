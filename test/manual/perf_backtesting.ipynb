{
 "cells": [
  {
   "cell_type": "code",
   "execution_count": null,
   "metadata": {},
   "outputs": [],
   "source": [
    "using Dates\n",
    "using BenchmarkTools\n",
    "using Fastback"
   ]
  },
  {
   "cell_type": "code",
   "execution_count": null,
   "metadata": {},
   "outputs": [],
   "source": [
    "function run_backtest()\n",
    "    # create instrument\n",
    "    inst = Instrument(1, \"AAPL\")\n",
    "    insts = [inst]\n",
    "\n",
    "    # market data (order books)\n",
    "    data = MarketData(insts)\n",
    "    book = data.order_books[inst.index]\n",
    "\n",
    "    # create trading account\n",
    "    acc = Account(insts, 100_000.0)\n",
    "\n",
    "    dt = DateTime(2018, 1, 2, 9, 30, 0)\n",
    "    for i = 1:100_000\n",
    "        ba = BidAsk(dt, 100.0 + i / 1000, 102 + i / 1000)\n",
    "        update_book!(book, ba)\n",
    "        update_account!(acc, data, inst)\n",
    "        execute_order!(acc, book, Order(inst, 1.0, dt))\n",
    "        execute_order!(acc, book, Order(inst, -1.0, dt))\n",
    "    end\n",
    "end\n",
    "\n",
    "# w/ delayed orders min     = 14.4 ms\n",
    "# direct placement          = 5.4 ms\n",
    "@benchmark run_backtest() evals = 3 samples = 40"
   ]
  },
  {
   "cell_type": "code",
   "execution_count": null,
   "metadata": {},
   "outputs": [],
   "source": [
    "using ProfileView\n",
    "ProfileView.@profview map(i -> run_backtest(), 1:100)"
   ]
  },
  {
   "cell_type": "code",
   "execution_count": null,
   "metadata": {},
   "outputs": [],
   "source": [
    "@benchmark map(i -> DateTime(0), 1:100_000)"
   ]
  }
 ],
 "metadata": {
  "kernelspec": {
   "display_name": "Julia 1.9.1",
   "language": "julia",
   "name": "julia-1.9"
  },
  "language_info": {
   "file_extension": ".jl",
   "mimetype": "application/julia",
   "name": "julia",
   "version": "1.9.1"
  },
  "orig_nbformat": 4
 },
 "nbformat": 4,
 "nbformat_minor": 2
}
