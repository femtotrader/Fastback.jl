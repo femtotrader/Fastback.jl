{
 "cells": [
  {
   "cell_type": "code",
   "execution_count": null,
   "metadata": {},
   "outputs": [],
   "source": [
    "using Pkg; Pkg.activate(\"../../\");\n",
    "using BenchmarkTools\n",
    "using Dates, Fastback"
   ]
  },
  {
   "cell_type": "code",
   "execution_count": null,
   "metadata": {},
   "outputs": [],
   "source": [
    "# synthetic data\n",
    "N = 100_000\n",
    "prices = 1000.0 .+ cumsum(randn(N) .+ 0.01)\n",
    "bids = prices .- 0.01\n",
    "asks = prices .+ 0.01\n",
    "dts = map(x -> DateTime(2000, 1, 1) + Minute(x) + Millisecond(123), 1:N);"
   ]
  },
  {
   "cell_type": "code",
   "execution_count": null,
   "metadata": {},
   "outputs": [],
   "source": [
    "# create instrument\n",
    "inst = Instrument(1, \"AAPL\")\n",
    "insts = [inst]\n",
    "\n",
    "# market data (order books)\n",
    "data = MarketData(insts)\n",
    "\n",
    "# create trading account\n",
    "acc = Account(insts, 100_000.0)\n",
    "\n",
    "# plot data collectors\n",
    "collect_balance, balance_curve = periodic_collector(Float64, Second(1))\n",
    "collect_equity, equity_curve = periodic_collector(Float64, Second(1))\n",
    "collect_open_orders, open_orders_curve = max_value_collector(Int64)\n",
    "collect_drawdown, drawdown_curve = drawdown_collector(Percentage, (v, dt, equity) -> dt - v.last_dt >= Second(1))\n",
    "\n",
    "pos = acc.positions[inst.index]\n",
    "\n",
    "# backtest random trading strategy\n",
    "for i in 1:N\n",
    "    dt = dts[i]\n",
    "    book = data.order_books[inst.index]\n",
    "    update_book!(book, BidAsk(dts[i], bids[i], asks[i]))\n",
    "\n",
    "    if i == N\n",
    "        # close all orders at end of backtest\n",
    "        if pos.quantity !== 0.0\n",
    "            execute_order!(acc, book, Order(inst, -pos.quantity, dt))\n",
    "        end\n",
    "    else\n",
    "        # randomly trade\n",
    "        if rand() > 0.999\n",
    "            sgn = rand() >= 0.5 ? 1.0 : -1.0\n",
    "            execute_order!(acc, book, Order(inst, sgn, dt))\n",
    "            # println(\"Net exposure: $(pos.quantity)\")\n",
    "        end\n",
    "\n",
    "        # # close positions after 10 minutes\n",
    "        # if is_exposed_to(acc, inst)\n",
    "        #     if dt - pos.orders_history[end].dt >= Minute(10)\n",
    "        #         execute_order!(acc, book, Order(inst, -pos.quantity, dt))\n",
    "        #     end\n",
    "        # end\n",
    "    end\n",
    "\n",
    "    update_account!(acc, data, inst)\n",
    "\n",
    "    # collect data for plotting\n",
    "    collect_balance(dt, acc.balance)\n",
    "    collect_equity(dt, acc.equity)\n",
    "    collect_open_orders(dt, length(acc.positions))\n",
    "    collect_drawdown(dt, acc.equity)\n",
    "end\n",
    "\n",
    "# print account\n",
    "show(acc; max_orders=1000)\n",
    "\n",
    "println(\"Sum realized pnl: $(sum(o.execution.realized_pnl for o in acc.orders_history))\")\n",
    "println(\"Net account pnl:  $(acc.equity - acc.initial_balance)\")"
   ]
  },
  {
   "cell_type": "code",
   "execution_count": null,
   "metadata": {},
   "outputs": [],
   "source": [
    "function run(dts, bids, asks)\n",
    "    N = length(dts)\n",
    "    \n",
    "    # create instrument\n",
    "    inst = Instrument(1, \"AAPL\")\n",
    "    insts = [inst]\n",
    "\n",
    "    # market data (order books)\n",
    "    data = MarketData(insts)\n",
    "\n",
    "    # create trading account\n",
    "    acc = Account(insts, 100_000.0)\n",
    "\n",
    "    pos = acc.positions[inst.index]\n",
    "\n",
    "    # backtest random trading strategy\n",
    "    for i in 1:N\n",
    "        dt = dts[i]\n",
    "        book = data.order_books[inst.index]\n",
    "        update_book!(book, BidAsk(dts[i], bids[i], asks[i]))\n",
    "\n",
    "        if i == N\n",
    "            # close all orders at end of backtest\n",
    "            if pos.quantity !== 0.0\n",
    "                execute_order!(acc, book, Order(inst, -pos.quantity, dt))\n",
    "            end\n",
    "        else\n",
    "            # randomly trade\n",
    "            if rand() > 0.999\n",
    "                sgn = rand() >= 0.5 ? 1.0 : -1.0\n",
    "                execute_order!(acc, book, Order(inst, sgn, dt))\n",
    "            end\n",
    "        end\n",
    "\n",
    "        update_account!(acc, data, inst)\n",
    "    end\n",
    "end"
   ]
  },
  {
   "cell_type": "code",
   "execution_count": null,
   "metadata": {},
   "outputs": [],
   "source": [
    "@benchmark run(dts, bids, asks) samples=30 evals=3"
   ]
  },
  {
   "cell_type": "code",
   "execution_count": null,
   "metadata": {},
   "outputs": [],
   "source": [
    "@code_warntype run(dts, bids, asks)"
   ]
  },
  {
   "cell_type": "code",
   "execution_count": null,
   "metadata": {},
   "outputs": [],
   "source": [
    "# using ProfileView\n",
    "# ProfileView.@profview map(i -> run(dts, bids, asks), 1:10)"
   ]
  }
 ],
 "metadata": {
  "kernelspec": {
   "display_name": "Julia 1.9.1",
   "language": "julia",
   "name": "julia-1.9"
  },
  "language_info": {
   "file_extension": ".jl",
   "mimetype": "application/julia",
   "name": "julia",
   "version": "1.9.1"
  },
  "orig_nbformat": 4
 },
 "nbformat": 4,
 "nbformat_minor": 2
}
