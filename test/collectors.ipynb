{
 "cells": [
  {
   "cell_type": "code",
   "execution_count": null,
   "metadata": {},
   "outputs": [],
   "source": [
    "using Fastback, Dates\n",
    "using Test"
   ]
  },
  {
   "cell_type": "code",
   "execution_count": null,
   "metadata": {},
   "outputs": [],
   "source": [
    "# every 500 ms from 1 sec to 5 sec\n",
    "dts = map(x -> DateTime(2000, 1, 1) + Millisecond(x), 1000:500:5000)\n",
    "data = [100.0, 110.0, 99.0, 102.0, 105.0, 105.0, 105.0, 120.0, 110.0]\n",
    "\n",
    "# periodic_collector\n",
    "f, collected = periodic_collector(Float64, Second(1))\n",
    "\n",
    "i = 1\n",
    "\n",
    "@code_warntype should_collect(collected, dts[i])\n",
    "@code_warntype f(dts[i], data[i])"
   ]
  }
 ],
 "metadata": {
  "kernelspec": {
   "display_name": "Julia 1.9.1",
   "language": "julia",
   "name": "julia-1.9"
  },
  "language_info": {
   "file_extension": ".jl",
   "mimetype": "application/julia",
   "name": "julia",
   "version": "1.9.1"
  },
  "orig_nbformat": 4
 },
 "nbformat": 4,
 "nbformat_minor": 2
}
