{
 "cells": [
  {
   "cell_type": "code",
   "execution_count": 1,
   "metadata": {},
   "outputs": [],
   "source": [
    "using Fastback, Dates\n",
    "using Test"
   ]
  },
  {
   "cell_type": "code",
   "execution_count": 2,
   "metadata": {},
   "outputs": [
    {
     "name": "stdout",
     "output_type": "stream",
     "text": [
      "MethodInstance for Fastback.should_collect(::PeriodicValues{Float64, Second}, ::DateTime)\n",
      "  from should_collect(\u001b[90mpv\u001b[39m::\u001b[1mPeriodicValues\u001b[22m\u001b[0m{T, TPeriod}, \u001b[90mdt\u001b[39m) where {T, TPeriod<:"
     ]
    },
    {
     "name": "stdout",
     "output_type": "stream",
     "text": [
      "Period}\u001b[90m @\u001b[39m \u001b[90mFastback\u001b[39m \u001b[90m/mnt/data/repos/Fastback.jl/src/\u001b[39m\u001b[90m\u001b[4mcollectors.jl:23\u001b[24m\u001b[39m\n",
      "Static Parameters\n",
      "  T = \u001b[36mFloat64\u001b[39m\n",
      "  TPeriod = \u001b[36mSecond\u001b[39m\n",
      "Arguments\n",
      "  #self#\u001b[36m::Core.Const(Fastback.should_collect)\u001b[39m\n",
      "  pv\u001b[36m::PeriodicValues{Float64, Second}\u001b[39m"
     ]
    },
    {
     "name": "stdout",
     "output_type": "stream",
     "text": [
      "\n",
      "  dt\u001b[36m::DateTime\u001b[39m\n",
      "Body\u001b[36m::Bool\u001b[39m\n"
     ]
    },
    {
     "name": "stdout",
     "output_type": "stream",
     "text": [
      "\u001b[90m1 ─\u001b[39m      nothing\n",
      "\u001b[90m│  \u001b[39m %2 = Base"
     ]
    },
    {
     "name": "stdout",
     "output_type": "stream",
     "text": [
      ".getproperty(pv, :last_dt)\u001b[36m::DateTime\u001b[39m\n",
      "\u001b[90m│  \u001b[39m %3 = (dt - %2)\u001b[36m::Millisecond\u001b[39m\n",
      "\u001b[90m│  \u001b[39m %4 = Base.getproperty(pv, :period)\u001b[36m::Second\u001b[39m\n",
      "\u001b[90m│  \u001b[39m %5 = (%3 >= %4)\u001b[36m::Bool\u001b[39m\n",
      "\u001b[90m└──\u001b[39m      return %5\n",
      "\n",
      "MethodInstance for (::Fastback"
     ]
    },
    {
     "name": "stdout",
     "output_type": "stream",
     "text": [
      ".var\"#collector#13\"{Float64, Second, PeriodicValues{Float64, Second}, Vector{Tuple{DateTime, Float64}}})(::DateTime, ::Float64)\n",
      "  from (::Fastback.var\"#collector#13\"{T})(\u001b[90mdt\u001b[39m::\u001b[1mDateTime\u001b[22m, \u001b[90mvalue\u001b[39m::\u001b[1mT\u001b[22m) where T\u001b[90m @\u001b[39m \u001b[90mFastback\u001b[39m \u001b[90m/mnt/data/repos/Fastback.jl/src/\u001b[39m\u001b[90m\u001b[4mcollectors.jl:12\u001b[24m\u001b[39m\n",
      "Static Parameters\n",
      "  T = \u001b[36mFloat64\u001b[39m\n",
      "Arguments\n",
      "  #self#\u001b[36m::Fastback.var\"#collector#13\"{Float64, Second, PeriodicValues{Float64, Second}, Vector{Tuple{DateTime, Float64}}}\u001b[39m\n",
      "  dt\u001b[36m::DateTime\u001b[39m\n",
      "  value\u001b[36m::Float64\u001b[39m\n",
      "Body\u001b[36m::Nothing\u001b[39m\n",
      "\u001b[90m1 ─\u001b[39m       nothing\n",
      "\u001b[90m│  \u001b[39m %2  = Core.getfield(#self#, :pv)\u001b[36m::PeriodicValues{Float64, Second}\u001b[39m\n",
      "\u001b[90m│  \u001b[39m %3  = Base.getproperty(%2, :last_dt)\u001b[36m::DateTime\u001b[39m\n",
      "\u001b[90m│  \u001b[39m %4  = (dt - %3)\u001b[36m::Millisecond\u001b[39m\n",
      "\u001b[90m│  \u001b[39m %5  = Core.getfield(#self#, :period)\u001b[36m::Second\u001b[39m\n",
      "\u001b[90m│  \u001b[39m %6  = (%4 >= %5)\u001b[36m::Bool\u001b[39m\n",
      "\u001b[90m└──\u001b[39m       goto #3 if not %6\n",
      "\u001b[90m2 ─\u001b[39m %8  = Core.getfield(#self#, :values)\u001b[36m::Vector{Tuple{DateTime, Float64}}\u001b[39m\n",
      "\u001b[90m│  \u001b[39m %9  = Core.tuple(dt, value)\u001b[36m::Tuple{DateTime, Float64}\u001b[39m\n",
      "\u001b[90m│  \u001b[39m       Fastback.push!(%8, %9)\n",
      "\u001b[90m│  \u001b[39m %11 = Core.getfield(#self#, :pv)\u001b[36m::PeriodicValues{Float64, Second}\u001b[39m\n",
      "\u001b[90m└──\u001b[39m       Base.setproperty!(%11, :last_dt, dt)\n",
      "\u001b[90m3 ┄\u001b[39m       return nothing\n",
      "\n"
     ]
    }
   ],
   "source": [
    "# every 500 ms from 1 sec to 5 sec\n",
    "dts = map(x -> DateTime(2000, 1, 1) + Millisecond(x), 1000:500:5000)\n",
    "data = [100.0, 110.0, 99.0, 102.0, 105.0, 105.0, 105.0, 120.0, 110.0]\n",
    "\n",
    "# periodic_collector\n",
    "f, collected = periodic_collector(Float64, Second(1))\n",
    "\n",
    "i = 1\n",
    "\n",
    "@code_warntype should_collect(collected, dts[i])\n",
    "@code_warntype f(dts[i], data[i])"
   ]
  }
 ],
 "metadata": {
  "kernelspec": {
   "display_name": "Julia 1.9.0",
   "language": "julia",
   "name": "julia-1.9"
  },
  "language_info": {
   "file_extension": ".jl",
   "mimetype": "application/julia",
   "name": "julia",
   "version": "1.9.0"
  },
  "orig_nbformat": 4
 },
 "nbformat": 4,
 "nbformat_minor": 2
}
